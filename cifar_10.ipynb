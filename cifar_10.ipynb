{
  "nbformat": 4,
  "nbformat_minor": 0,
  "metadata": {
    "colab": {
      "provenance": []
    },
    "kernelspec": {
      "name": "python3",
      "display_name": "Python 3"
    },
    "language_info": {
      "name": "python"
    }
  },
  "cells": [
    {
      "cell_type": "code",
      "execution_count": null,
      "metadata": {
        "id": "Q13fKx3UWPoJ"
      },
      "outputs": [],
      "source": [
        "import numpy as np \n",
        "import pandas as pd\n",
        "import matplotlib.pyplot as plt\n",
        "import tensorflow as tf\n",
        "from tensorflow import keras\n",
        "%matplotlib inline"
      ]
    },
    {
      "cell_type": "code",
      "source": [
        "(X_train , y_train) , (X_test , y_test) = keras.datasets.cifar10.load_data()"
      ],
      "metadata": {
        "id": "QboScxQtZDmr"
      },
      "execution_count": null,
      "outputs": []
    },
    {
      "cell_type": "code",
      "source": [
        "X_train = X_train/255\n",
        "X_test = X_test/255\n",
        "X_train.shape"
      ],
      "metadata": {
        "colab": {
          "base_uri": "https://localhost:8080/"
        },
        "id": "2ki9HvD6aud2",
        "outputId": "5bf0773b-9271-4b23-d420-bfef2abd514e"
      },
      "execution_count": null,
      "outputs": [
        {
          "output_type": "execute_result",
          "data": {
            "text/plain": [
              "(50000, 32, 32, 3)"
            ]
          },
          "metadata": {},
          "execution_count": 3
        }
      ]
    },
    {
      "cell_type": "code",
      "source": [
        "y_train = y_train.reshape(-1,)\n",
        "y_test = y_test.reshape(-1,)\n",
        "y_train.shape"
      ],
      "metadata": {
        "colab": {
          "base_uri": "https://localhost:8080/"
        },
        "id": "dXKWIncnb0Vw",
        "outputId": "edb1123d-2393-4dcb-eaf8-b2f1f8c33826"
      },
      "execution_count": null,
      "outputs": [
        {
          "output_type": "execute_result",
          "data": {
            "text/plain": [
              "(50000,)"
            ]
          },
          "metadata": {},
          "execution_count": 4
        }
      ]
    },
    {
      "cell_type": "code",
      "source": [
        "classes = [\"Airplane\" ,\"Automobile\",\t\"Bird\",\t\"Cat\",\t\"Deer\",\t\"Dog\",\t\"Frog\",\t\"Horse\",\t\"Ship\",\t\"Truck\"]\n",
        "def plot_image(x,y,index):\n",
        "  plt.matshow(x[index])\n",
        "  plt.xlabel(classes[y[index]])"
      ],
      "metadata": {
        "id": "-gNekLd3bb3G"
      },
      "execution_count": null,
      "outputs": []
    },
    {
      "cell_type": "markdown",
      "source": [
        "#Artificial Neural Network\n"
      ],
      "metadata": {
        "id": "ko1iZDqDmZdN"
      }
    },
    {
      "cell_type": "code",
      "source": [
        "ann = keras.Sequential([\n",
        "    keras.layers.Flatten(input_shape = (32,32,3)),\n",
        "    keras.layers.Dense(1000 , activation = 'relu'),\n",
        "    keras.layers.Dense(500 , activation  = 'relu'),\n",
        "    keras.layers.Dense(10 , activation = 'softmax')\n",
        "])\n",
        "\n",
        "ann.compile(\n",
        "    optimizer = 'adam', \n",
        "    loss = 'sparse_categorical_crossentropy',\n",
        "    metrics = ['accuracy']\n",
        ")\n",
        "\n",
        "ann.fit(X_train,y_train , epochs = 5)"
      ],
      "metadata": {
        "id": "pOY_p9K5mYlk",
        "colab": {
          "base_uri": "https://localhost:8080/"
        },
        "outputId": "f3b55449-0f53-4f89-fe03-bd1f9f036882"
      },
      "execution_count": null,
      "outputs": [
        {
          "output_type": "stream",
          "name": "stdout",
          "text": [
            "Epoch 1/5\n",
            "1563/1563 [==============================] - 42s 27ms/step - loss: 1.8927 - accuracy: 0.3050\n",
            "Epoch 2/5\n",
            "1563/1563 [==============================] - 43s 28ms/step - loss: 1.6992 - accuracy: 0.3847\n",
            "Epoch 3/5\n",
            "1563/1563 [==============================] - 42s 27ms/step - loss: 1.6099 - accuracy: 0.4209\n",
            "Epoch 4/5\n",
            "1563/1563 [==============================] - 42s 27ms/step - loss: 1.5409 - accuracy: 0.4469\n",
            "Epoch 5/5\n",
            "1563/1563 [==============================] - 44s 28ms/step - loss: 1.4932 - accuracy: 0.4643\n"
          ]
        },
        {
          "output_type": "execute_result",
          "data": {
            "text/plain": [
              "<keras.callbacks.History at 0x7f15a5f8d7f0>"
            ]
          },
          "metadata": {},
          "execution_count": 13
        }
      ]
    },
    {
      "cell_type": "code",
      "source": [
        "ann.evaluate(X_test,y_test)"
      ],
      "metadata": {
        "colab": {
          "base_uri": "https://localhost:8080/"
        },
        "id": "u-58OHE_ql2t",
        "outputId": "8426e878-0f17-4e3c-84c8-06cecee7b6ce"
      },
      "execution_count": null,
      "outputs": [
        {
          "output_type": "stream",
          "name": "stdout",
          "text": [
            "313/313 [==============================] - 3s 10ms/step - loss: 295.2911 - accuracy: 0.2792\n"
          ]
        },
        {
          "output_type": "execute_result",
          "data": {
            "text/plain": [
              "[295.2911071777344, 0.2791999876499176]"
            ]
          },
          "metadata": {},
          "execution_count": 14
        }
      ]
    },
    {
      "cell_type": "code",
      "source": [
        "from sklearn.metrics import classification_report\n",
        "\n",
        "y_pred = ann.predict(X_test)\n",
        "y_pred = [np.argmax(i) for i in y_pred]\n",
        "y_pred = np.array(y_pred)\n",
        "\n",
        "print(\"Classification Report : \\n\" , classification_report(y_test,y_pred))"
      ],
      "metadata": {
        "colab": {
          "base_uri": "https://localhost:8080/"
        },
        "id": "16urxO52rEBJ",
        "outputId": "02199e19-bc70-4480-d2d8-8a0aed24d072"
      },
      "execution_count": null,
      "outputs": [
        {
          "output_type": "stream",
          "name": "stdout",
          "text": [
            "313/313 [==============================] - 4s 13ms/step\n",
            "Classification Report : \n",
            "               precision    recall  f1-score   support\n",
            "\n",
            "           0       0.18      0.86      0.29      1000\n",
            "           1       0.70      0.29      0.41      1000\n",
            "           2       0.38      0.09      0.14      1000\n",
            "           3       0.35      0.07      0.12      1000\n",
            "           4       0.75      0.00      0.01      1000\n",
            "           5       0.21      0.52      0.30      1000\n",
            "           6       0.57      0.01      0.02      1000\n",
            "           7       0.66      0.18      0.28      1000\n",
            "           8       0.57      0.39      0.46      1000\n",
            "           9       0.49      0.37      0.42      1000\n",
            "\n",
            "    accuracy                           0.28     10000\n",
            "   macro avg       0.49      0.28      0.25     10000\n",
            "weighted avg       0.49      0.28      0.25     10000\n",
            "\n"
          ]
        }
      ]
    },
    {
      "cell_type": "markdown",
      "source": [
        "#Convolutional Neural Network"
      ],
      "metadata": {
        "id": "gxiFA43OsGJz"
      }
    },
    {
      "cell_type": "code",
      "source": [
        "cnn = keras.Sequential([\n",
        "    keras.layers.Conv2D(filters = 32 , kernel_size = (3,3) , activation = 'relu' , input_shape = (32,32,3)),\n",
        "    keras.layers.MaxPooling2D((2,2)),\n",
        "    keras.layers.Conv2D(filters = 32  , kernel_size = (3,3) , activation = 'relu' , input_shape = (32,32,3)),\n",
        "    keras.layers.MaxPooling2D((2,2)),\n",
        "    keras.layers.Flatten(),\n",
        "    keras.layers.Dense(64 , activation = \"relu\"),\n",
        "    keras.layers.Dense(10 , activation = 'softmax')\n",
        "])\n",
        "\n",
        "cnn.compile(\n",
        "    optimizer = 'adam',\n",
        "    loss='sparse_categorical_crossentropy',\n",
        "    metrics=['accuracy']\n",
        ")\n",
        "\n",
        "cnn.fit(X_train,y_train,epochs = 5)"
      ],
      "metadata": {
        "colab": {
          "base_uri": "https://localhost:8080/"
        },
        "id": "G9WANdoysAQB",
        "outputId": "91a32e8b-50ae-482e-caca-2b25c3a9f614"
      },
      "execution_count": null,
      "outputs": [
        {
          "output_type": "stream",
          "name": "stdout",
          "text": [
            "Epoch 1/5\n",
            "1563/1563 [==============================] - 68s 43ms/step - loss: 1.4797 - accuracy: 0.4676\n",
            "Epoch 2/5\n",
            "1563/1563 [==============================] - 58s 37ms/step - loss: 1.1592 - accuracy: 0.5896\n",
            "Epoch 3/5\n",
            "1563/1563 [==============================] - 58s 37ms/step - loss: 1.0384 - accuracy: 0.6363\n",
            "Epoch 4/5\n",
            "1563/1563 [==============================] - 57s 37ms/step - loss: 0.9592 - accuracy: 0.6648\n",
            "Epoch 5/5\n",
            "1563/1563 [==============================] - 58s 37ms/step - loss: 0.8996 - accuracy: 0.6850\n"
          ]
        },
        {
          "output_type": "execute_result",
          "data": {
            "text/plain": [
              "<keras.callbacks.History at 0x7f2bb2b77a90>"
            ]
          },
          "metadata": {},
          "execution_count": 6
        }
      ]
    },
    {
      "cell_type": "code",
      "source": [
        "cnn.evaluate(X_test,y_test)"
      ],
      "metadata": {
        "colab": {
          "base_uri": "https://localhost:8080/"
        },
        "id": "C9qfDN4qwYG9",
        "outputId": "3e8cda92-1fdf-4cb0-bea5-bea5b4a2fb52"
      },
      "execution_count": null,
      "outputs": [
        {
          "output_type": "stream",
          "name": "stdout",
          "text": [
            "313/313 [==============================] - 5s 14ms/step - loss: 0.9789 - accuracy: 0.6593\n"
          ]
        },
        {
          "output_type": "execute_result",
          "data": {
            "text/plain": [
              "[0.9788983464241028, 0.6593000292778015]"
            ]
          },
          "metadata": {},
          "execution_count": 7
        }
      ]
    },
    {
      "cell_type": "code",
      "source": [
        "y_pred = cnn.predict( X_test)\n",
        "y_pred = [np.argmax(i) for i in y_pred]\n",
        "y_pred = np.array(y_pred)"
      ],
      "metadata": {
        "colab": {
          "base_uri": "https://localhost:8080/"
        },
        "id": "xpfD4hzVwdWk",
        "outputId": "95144ba8-6f2e-4f9b-d603-080d7bef5e91"
      },
      "execution_count": null,
      "outputs": [
        {
          "output_type": "stream",
          "name": "stdout",
          "text": [
            "313/313 [==============================] - 4s 11ms/step\n"
          ]
        }
      ]
    },
    {
      "cell_type": "markdown",
      "source": [
        "##Actual Class"
      ],
      "metadata": {
        "id": "sAN9vSWkxPTN"
      }
    },
    {
      "cell_type": "code",
      "source": [
        "plot_image(X_test,y_test,1)"
      ],
      "metadata": {
        "colab": {
          "base_uri": "https://localhost:8080/",
          "height": 285
        },
        "id": "2mPnD41dxW2S",
        "outputId": "56273714-3fa0-4f2f-f3af-b681c121feb6"
      },
      "execution_count": null,
      "outputs": [
        {
          "output_type": "display_data",
          "data": {
            "text/plain": [
              "<Figure size 288x288 with 1 Axes>"
            ],
            "image/png": "[encoded data removed]"
          },
          "metadata": {
            "needs_background": "light"
          }
        }
      ]
    },
    {
      "cell_type": "code",
      "source": [
        "plot_image(X_test,y_test,2)"
      ],
      "metadata": {
        "colab": {
          "base_uri": "https://localhost:8080/",
          "height": 285
        },
        "id": "nn78st2Dx1Qh",
        "outputId": "0b5b7b7b-2004-4dc5-9df3-41cdb494b520"
      },
      "execution_count": null,
      "outputs": [
        {
          "output_type": "display_data",
          "data": {
            "text/plain": [
              "<Figure size 288x288 with 1 Axes>"
            ],
            "image/png": "[encoded data removed]"
          },
          "metadata": {
            "needs_background": "light"
          }
        }
      ]
    },
    {
      "cell_type": "markdown",
      "source": [
        "##Predicted Class"
      ],
      "metadata": {
        "id": "NPjnxVdtxhN3"
      }
    },
    {
      "cell_type": "code",
      "source": [
        "plot_image(X_test, y_pred, 1)"
      ],
      "metadata": {
        "colab": {
          "base_uri": "https://localhost:8080/",
          "height": 285
        },
        "id": "VqNRaddnxheO",
        "outputId": "63b48d2d-99eb-4091-9d28-887b1074be41"
      },
      "execution_count": null,
      "outputs": [
        {
          "output_type": "display_data",
          "data": {
            "text/plain": [
              "<Figure size 288x288 with 1 Axes>"
            ],
            "image/png": "[encoded data removed]"
          },
          "metadata": {
            "needs_background": "light"
          }
        }
      ]
    },
    {
      "cell_type": "code",
      "source": [
        "plot_image(X_test, y_pred, 2)"
      ],
      "metadata": {
        "colab": {
          "base_uri": "https://localhost:8080/",
          "height": 285
        },
        "id": "9SIS0oq4x5M2",
        "outputId": "ecea5ba2-fe9f-4284-a273-295dbfa20295"
      },
      "execution_count": null,
      "outputs": [
        {
          "output_type": "display_data",
          "data": {
            "text/plain": [
              "<Figure size 288x288 with 1 Axes>"
            ],
            "image/png": "[encoded data removed]"
          },
          "metadata": {
            "needs_background": "light"
          }
        }
      ]
    }
  ]
}
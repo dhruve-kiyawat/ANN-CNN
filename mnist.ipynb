{
  "nbformat": 4,
  "nbformat_minor": 0,
  "metadata": {
    "colab": {
      "provenance": []
    },
    "kernelspec": {
      "name": "python3",
      "display_name": "Python 3"
    },
    "language_info": {
      "name": "python"
    }
  },
  "cells": [
    {
      "cell_type": "code",
      "execution_count": null,
      "metadata": {
        "id": "-7I75tXCytKl"
      },
      "outputs": [],
      "source": [
        "import tensorflow as tf\n",
        "from tensorflow import keras\n",
        "import matplotlib.pyplot as plt\n",
        "%matplotlib inline\n",
        "import numpy as np"
      ]
    },
    {
      "cell_type": "code",
      "source": [
        "(X_train, y_train) , (X_test, y_test) = keras.datasets.mnist.load_data()"
      ],
      "metadata": {
        "id": "PRQtKuIny13L"
      },
      "execution_count": null,
      "outputs": []
    },
    {
      "cell_type": "code",
      "source": [
        "X_train = X_train / 255\n",
        "X_test = X_test / 255"
      ],
      "metadata": {
        "id": "piIJaJlXy_3C"
      },
      "execution_count": null,
      "outputs": []
    },
    {
      "cell_type": "code",
      "source": [
        "plt.matshow(X_train[0])"
      ],
      "metadata": {
        "colab": {
          "base_uri": "https://localhost:8080/",
          "height": 292
        },
        "id": "LGJW34Rdy3Uj",
        "outputId": "7634842d-a34e-49db-bf51-57fc1fa8b2ff"
      },
      "execution_count": null,
      "outputs": [
        {
          "output_type": "execute_result",
          "data": {
            "text/plain": [
              "<matplotlib.image.AxesImage at 0x7f9d45112400>"
            ]
          },
          "metadata": {},
          "execution_count": 6
        },
        {
          "output_type": "display_data",
          "data": {
            "text/plain": [
              "<Figure size 288x288 with 1 Axes>"
            ],
            "image/png": "[encoded data removed]"
          },
          "metadata": {
            "needs_background": "light"
          }
        }
      ]
    },
    {
      "cell_type": "code",
      "source": [
        "model = keras.Sequential([\n",
        "    keras.layers.Flatten(input_shape=(28, 28)),\n",
        "    keras.layers.Dense(100, activation='relu'),\n",
        "    keras.layers.Dense(10, activation='sigmoid')\n",
        "])\n",
        "\n",
        "model.compile(optimizer='adam',\n",
        "              loss='sparse_categorical_crossentropy',\n",
        "              metrics=['accuracy'])\n",
        "\n",
        "model.fit(X_train, y_train, epochs=15)"
      ],
      "metadata": {
        "colab": {
          "base_uri": "https://localhost:8080/"
        },
        "id": "Uo6Nq4Ujzqjv",
        "outputId": "d3cfb54e-017e-4fd5-9824-ac236e1f6365"
      },
      "execution_count": null,
      "outputs": [
        {
          "output_type": "stream",
          "name": "stdout",
          "text": [
            "Epoch 1/15\n",
            "1875/1875 [==============================] - 5s 3ms/step - loss: 0.2709 - accuracy: 0.9230\n",
            "Epoch 2/15\n",
            "1875/1875 [==============================] - 5s 2ms/step - loss: 0.1246 - accuracy: 0.9637\n",
            "Epoch 3/15\n",
            "1875/1875 [==============================] - 6s 3ms/step - loss: 0.0865 - accuracy: 0.9740\n",
            "Epoch 4/15\n",
            "1875/1875 [==============================] - 5s 2ms/step - loss: 0.0653 - accuracy: 0.9808\n",
            "Epoch 5/15\n",
            "1875/1875 [==============================] - 5s 3ms/step - loss: 0.0521 - accuracy: 0.9839\n",
            "Epoch 6/15\n",
            "1875/1875 [==============================] - 5s 3ms/step - loss: 0.0412 - accuracy: 0.9877\n",
            "Epoch 7/15\n",
            "1875/1875 [==============================] - 5s 2ms/step - loss: 0.0343 - accuracy: 0.9893\n",
            "Epoch 8/15\n",
            "1875/1875 [==============================] - 6s 3ms/step - loss: 0.0271 - accuracy: 0.9918\n",
            "Epoch 9/15\n",
            "1875/1875 [==============================] - 5s 2ms/step - loss: 0.0234 - accuracy: 0.9926\n",
            "Epoch 10/15\n",
            "1875/1875 [==============================] - 5s 3ms/step - loss: 0.0193 - accuracy: 0.9939\n",
            "Epoch 11/15\n",
            "1875/1875 [==============================] - 5s 3ms/step - loss: 0.0173 - accuracy: 0.9951\n",
            "Epoch 12/15\n",
            "1875/1875 [==============================] - 4s 2ms/step - loss: 0.0146 - accuracy: 0.9954\n",
            "Epoch 13/15\n",
            "1875/1875 [==============================] - 6s 3ms/step - loss: 0.0123 - accuracy: 0.9963\n",
            "Epoch 14/15\n",
            "1875/1875 [==============================] - 7s 4ms/step - loss: 0.0112 - accuracy: 0.9968\n",
            "Epoch 15/15\n",
            "1875/1875 [==============================] - 7s 4ms/step - loss: 0.0102 - accuracy: 0.9967\n"
          ]
        },
        {
          "output_type": "execute_result",
          "data": {
            "text/plain": [
              "<keras.callbacks.History at 0x7f9d33dbdc10>"
            ]
          },
          "metadata": {},
          "execution_count": 12
        }
      ]
    },
    {
      "cell_type": "code",
      "source": [
        "model.evaluate(X_test,y_test)"
      ],
      "metadata": {
        "colab": {
          "base_uri": "https://localhost:8080/"
        },
        "id": "0EWfSR8oz1x3",
        "outputId": "2352e33e-40d2-4fcd-cb82-ac437ae013a1"
      },
      "execution_count": null,
      "outputs": [
        {
          "output_type": "stream",
          "name": "stdout",
          "text": [
            "313/313 [==============================] - 1s 2ms/step - loss: 0.0910 - accuracy: 0.9796\n"
          ]
        },
        {
          "output_type": "execute_result",
          "data": {
            "text/plain": [
              "[0.09103284031152725, 0.9796000123023987]"
            ]
          },
          "metadata": {},
          "execution_count": 13
        }
      ]
    },
    {
      "cell_type": "code",
      "source": [
        "X_train = X_train.reshape(-1,28,28,1)"
      ],
      "metadata": {
        "id": "YwiYAo5C7NmZ"
      },
      "execution_count": null,
      "outputs": []
    },
    {
      "cell_type": "code",
      "source": [
        "model_cnn = keras.Sequential([\n",
        "    keras.layers.Conv2D(filters = 10,input_shape=(28, 28 ,1),kernel_size = (3,3) , activation = 'relu' ),\n",
        "    keras.layers.MaxPooling2D(pool_size = (2,2)),\n",
        "    keras.layers.Flatten(),\n",
        "    keras.layers.Dense(100, activation='relu'),\n",
        "    keras.layers.Dense(10, activation='sigmoid')\n",
        "])\n",
        "\n",
        "model_cnn.compile(optimizer='adam',\n",
        "              loss='sparse_categorical_crossentropy',\n",
        "              metrics=['accuracy'])\n",
        "\n",
        "model_cnn.fit(X_train, y_train, epochs=15)"
      ],
      "metadata": {
        "colab": {
          "base_uri": "https://localhost:8080/"
        },
        "id": "ti6x-2Ds0itD",
        "outputId": "213587d4-a9ae-4547-f363-e593c9c11ac4"
      },
      "execution_count": null,
      "outputs": [
        {
          "output_type": "stream",
          "name": "stdout",
          "text": [
            "Epoch 1/15\n",
            "1875/1875 [==============================] - 23s 12ms/step - loss: 0.2138 - accuracy: 0.9364\n",
            "Epoch 2/15\n",
            "1875/1875 [==============================] - 22s 12ms/step - loss: 0.0794 - accuracy: 0.9763\n",
            "Epoch 3/15\n",
            "1875/1875 [==============================] - 24s 13ms/step - loss: 0.0515 - accuracy: 0.9841\n",
            "Epoch 4/15\n",
            "1875/1875 [==============================] - 23s 12ms/step - loss: 0.0363 - accuracy: 0.9889\n",
            "Epoch 5/15\n",
            "1875/1875 [==============================] - 23s 12ms/step - loss: 0.0258 - accuracy: 0.9921\n",
            "Epoch 6/15\n",
            "1875/1875 [==============================] - 22s 11ms/step - loss: 0.0192 - accuracy: 0.9938\n",
            "Epoch 7/15\n",
            "1875/1875 [==============================] - 22s 12ms/step - loss: 0.0142 - accuracy: 0.9953\n",
            "Epoch 8/15\n",
            "1875/1875 [==============================] - 24s 13ms/step - loss: 0.0120 - accuracy: 0.9961\n",
            "Epoch 9/15\n",
            "1875/1875 [==============================] - 23s 12ms/step - loss: 0.0085 - accuracy: 0.9973\n",
            "Epoch 10/15\n",
            "1875/1875 [==============================] - 22s 12ms/step - loss: 0.0063 - accuracy: 0.9980\n",
            "Epoch 11/15\n",
            "1875/1875 [==============================] - 23s 12ms/step - loss: 0.0070 - accuracy: 0.9977\n",
            "Epoch 12/15\n",
            "1875/1875 [==============================] - 23s 12ms/step - loss: 0.0046 - accuracy: 0.9985\n",
            "Epoch 13/15\n",
            "1875/1875 [==============================] - 24s 13ms/step - loss: 0.0049 - accuracy: 0.9985\n",
            "Epoch 14/15\n",
            "1875/1875 [==============================] - 22s 12ms/step - loss: 0.0036 - accuracy: 0.9989\n",
            "Epoch 15/15\n",
            "1875/1875 [==============================] - 22s 12ms/step - loss: 0.0033 - accuracy: 0.9989\n"
          ]
        },
        {
          "output_type": "execute_result",
          "data": {
            "text/plain": [
              "<keras.callbacks.History at 0x7f9d5f913730>"
            ]
          },
          "metadata": {},
          "execution_count": 10
        }
      ]
    },
    {
      "cell_type": "code",
      "source": [
        "model_cnn.evaluate(X_test,y_test)"
      ],
      "metadata": {
        "colab": {
          "base_uri": "https://localhost:8080/"
        },
        "id": "T0XypjDp9O0B",
        "outputId": "d1f88abf-1da1-4f84-fd9c-d5eab8574e71"
      },
      "execution_count": null,
      "outputs": [
        {
          "output_type": "stream",
          "name": "stdout",
          "text": [
            "313/313 [==============================] - 3s 8ms/step - loss: 0.0525 - accuracy: 0.9883\n"
          ]
        },
        {
          "output_type": "execute_result",
          "data": {
            "text/plain": [
              "[0.052450474351644516, 0.9883000254631042]"
            ]
          },
          "metadata": {},
          "execution_count": 11
        }
      ]
    }
  ]
}